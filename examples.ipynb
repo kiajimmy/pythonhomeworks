{
 "metadata": {
  "language_info": {
   "codemirror_mode": {
    "name": "ipython",
    "version": 3
   },
   "file_extension": ".py",
   "mimetype": "text/x-python",
   "name": "python",
   "nbconvert_exporter": "python",
   "pygments_lexer": "ipython3",
   "version": "3.8.5-final"
  },
  "orig_nbformat": 2,
  "kernelspec": {
   "name": "Python 3.8.5 32-bit",
   "display_name": "Python 3.8.5 32-bit",
   "metadata": {
    "interpreter": {
     "hash": "3ee4bf66fcc81d91e834ddde620d2c5ca374b0f31565f85b222b3f6c777d4932"
    }
   }
  }
 },
 "nbformat": 4,
 "nbformat_minor": 2,
 "cells": [
  {
   "cell_type": "code",
   "execution_count": null,
   "metadata": {
    "tags": []
   },
   "outputs": [],
   "source": [
    "msg = \"Hello Jimmy\"\n",
    "print(msg)"
   ]
  },
  {
   "cell_type": "code",
   "execution_count": null,
   "metadata": {
    "tags": []
   },
   "outputs": [],
   "source": [
    "#Exercises for Ben Stephenson's Python Work book\n",
    "\n",
    "#ex 1\n",
    "#Create a program that displays your name and complete mailing address formatted in the manner that you would usually see it on the outside ofan envelope. #Your program does not need to read any input from the user.\n",
    "\n",
    "name = \"Jimmy\"\n",
    "mail = \"abc@abc.com\"\n",
    "\n",
    "print(\"Receiver: \", name)\n",
    "print(\"Address : \", mail)\n"
   ]
  },
  {
   "cell_type": "code",
   "execution_count": null,
   "metadata": {
    "tags": []
   },
   "outputs": [],
   "source": [
    "#ex 2\n",
    "#Write a program that asks the user to enter his or her name. The program should respond with a message that says hello to the user, using his or her name\n",
    "\n",
    "name = input(\"Your name is : \");\n",
    "print(\"Hello \", name);"
   ]
  },
  {
   "cell_type": "code",
   "execution_count": null,
   "metadata": {
    "tags": []
   },
   "outputs": [],
   "source": [
    "#ex 3\n",
    "#Write a program that asks the user to enter the width and length of a room. Once the values have been read, your program should compute and display the area #of the room. The length and the width will be entered as floating point numbers. Include units in your prompt and output message; either feet or meters, #depending on which unit you are more comfortable working with.\n",
    "\n",
    "width = float(input(\"width (m): \"))\n",
    "height = float(input(\"height (m): \"))\n",
    "print(\"width (m) : \",width)\n",
    "print(\"height (m) : \",height)"
   ]
  },
  {
   "cell_type": "code",
   "execution_count": null,
   "metadata": {
    "tags": []
   },
   "outputs": [],
   "source": [
    "#ex 4\n",
    "#Create a program that reads the length and width of a farmer’s field from the user in feet. Display the area of the field in acres.\n",
    "\n",
    "width = float(input(\"width (m): \"))\n",
    "height = float(input(\"height (m): \"))\n",
    "\n",
    "acre = (width * height) * 43560\n",
    "print(\"Acre: \",acre)"
   ]
  },
  {
   "cell_type": "code",
   "execution_count": null,
   "metadata": {
    "tags": []
   },
   "outputs": [],
   "source": [
    "#ex 5\n",
    "#In many jurisdictions a small deposit is added to drink containers to encourage people to recycle them. In one particular jurisdiction, drink containers #holding one liter or less have a $0.10 deposit, and drink containers holding more than one liter have a $0.25 deposit. Write a program that reads the number #of containers of each size from the user.\n",
    "#Your program should continue by computing and displaying the refund that will be received for returning those containers. Format the output so that it #includes a dollar sign and always displays exactly two decimal places.\n",
    "\n",
    "one_liter_or_less = float(input(\"How many one liter of less bottles : \"))\n",
    "others = float(input(\"How many over one liter? : \"))\n",
    "deposits = (one_liter_or_less * 0.10) + (others * 0.25)\n",
    "print(\"Total refund: \",round(deposits,2))"
   ]
  },
  {
   "cell_type": "code",
   "execution_count": null,
   "metadata": {
    "tags": []
   },
   "outputs": [],
   "source": [
    "#ex6\n",
    "#The program that you create for this exercise will begin by reading the cost of a meal ordered at a restaurant from the user. Then your program will #compute the tax and tip for the meal. Use your local tax rate when computing the amount of tax owing. Compute the tip as 18 percent of the meal amount #(without the tax). The output from your program should include the tax amount, the tip amount, and the grand total for the meal including both the tax and #the tip. Format the output so that all of the values are displayed using two decimal places.\n",
    "\n",
    "cost = float(input(\"Cost of Meal: \"))\n",
    "\n",
    "tip_per = 0.18\n",
    "tax_per = 0.10\n",
    "\n",
    "tip = (cost * 0.18)\n",
    "tax = (cost * 0.10)\n",
    "\n",
    "total = cost +  tax + tip\n",
    "\n",
    "print(\"Tip: \", round(tip,2))\n",
    "print(\"Tax: \", round(tax,2))\n",
    "print(\"Total cost: \", round(total,2))"
   ]
  },
  {
   "cell_type": "code",
   "execution_count": null,
   "metadata": {
    "tags": []
   },
   "outputs": [],
   "source": [
    "#ex 7\n",
    "#Sum of the First n Positive Integers\n",
    "#Write a program that reads a positive integer, n, from the user and then displays the sum of all of the integers from 1 to n. The sum of the first n positive integers can be #computed using the formula: sum = (n * (n + 1))/2\n",
    "\n",
    "n = int(input(\"Enter number: \"))\n",
    "i = 0\n",
    "while (i < n):\n",
    "    sum = (i * (i+ 1) // 2)\n",
    "    print(\"sum = \", sum)\n",
    "    i = i + 1"
   ]
  },
  {
   "cell_type": "code",
   "execution_count": 10,
   "metadata": {
    "tags": []
   },
   "outputs": [
    {
     "output_type": "stream",
     "name": "stdout",
     "text": "Total weight order widget =  150  grams\nTotal weight order gizmos =  336  grams\nAll total weight =  486  grams\n"
    }
   ],
   "source": [
    "#ex 8\n",
    "#Widgets and Gizmos\n",
    "#An online retailer sells two products: widgets and gizmos. Each widget weighs 75 grams. Each gizmo weighs 112 grams. \n",
    "#Write a program that reads the number of widgets and the number of gizmos in an order from the user. Then your program should compute and display the total weight of the order.\n",
    "\n",
    "order_widget = int(input(\"Buy widgets qty: \"))\n",
    "order_gizmos = int(input(\"Buy gizmos qty:  \"))\n",
    "Total_order_widget = order_widget * 75\n",
    "Total_order_gizmos = order_gizmos * 112\n",
    "Total = Total_order_gizmos + Total_order_widget\n",
    "print(\"Total weight order widget = \", Total_order_widget, \" grams\")\n",
    "print(\"Total weight order gizmos = \", Total_order_gizmos, \" grams\")\n",
    "print(\"All total weight = \", Total, \" grams\")"
   ]
  },
  {
   "cell_type": "code",
   "execution_count": null,
   "metadata": {},
   "outputs": [],
   "source": [
    "#ex 9\n",
    "#Compound Interest\n",
    "#Pretend that you have just opened a new savings account that earns 4 percent interest per year. The interest that you earn is paid at the end of the year, and is added to the #balance of the savings account. Write a program that begins by reading the amount ofmoney deposited into the account from the user. Then your program should compute and display the #amount in the savings account after 1, 2, and 3 years. Display each amount so that it is rounded to 2 decimal places.\n"
   ]
  }
 ]
}